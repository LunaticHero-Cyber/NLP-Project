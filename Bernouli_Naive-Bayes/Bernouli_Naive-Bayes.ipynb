{
 "cells": [
  {
   "cell_type": "code",
   "execution_count": 63,
   "metadata": {
    "scrolled": true
   },
   "outputs": [],
   "source": [
    "import pandas as pd\n",
    "import re\n",
    "import nltk\n",
    "from nltk.corpus import stopwords\n",
    "from nltk.stem.porter import PorterStemmer\n",
    "from sklearn.feature_extraction.text import CountVectorizer\n",
    "from sklearn.metrics import confusion_matrix\n",
    "import seaborn as sns\n",
    "import unicodedata\n",
    "from sklearn import metrics\n",
    "import matplotlib.pyplot as plt"
   ]
  },
  {
   "cell_type": "code",
   "execution_count": 99,
   "metadata": {},
   "outputs": [],
   "source": [
    "dataset = pd.read_csv(r\"C:\\\\Users\\\\user\\\\Project_Research_Topic\\\\600 news with valid hoax label.csv\", sep=';')"
   ]
  },
  {
   "cell_type": "code",
   "execution_count": 100,
   "metadata": {},
   "outputs": [
    {
     "data": {
      "text/html": [
       "<div>\n",
       "<style scoped>\n",
       "    .dataframe tbody tr th:only-of-type {\n",
       "        vertical-align: middle;\n",
       "    }\n",
       "\n",
       "    .dataframe tbody tr th {\n",
       "        vertical-align: top;\n",
       "    }\n",
       "\n",
       "    .dataframe thead th {\n",
       "        text-align: right;\n",
       "    }\n",
       "</style>\n",
       "<table border=\"1\" class=\"dataframe\">\n",
       "  <thead>\n",
       "    <tr style=\"text-align: right;\">\n",
       "      <th></th>\n",
       "      <th>berita</th>\n",
       "      <th>tagging</th>\n",
       "    </tr>\n",
       "  </thead>\n",
       "  <tbody>\n",
       "    <tr>\n",
       "      <th>0</th>\n",
       "      <td>Jakarta, Di jejaring sosial, banyak beredar in...</td>\n",
       "      <td>Valid</td>\n",
       "    </tr>\n",
       "    <tr>\n",
       "      <th>1</th>\n",
       "      <td>Isu bahwa ikan lele mengandung sel kanker di j...</td>\n",
       "      <td>Valid</td>\n",
       "    </tr>\n",
       "    <tr>\n",
       "      <th>2</th>\n",
       "      <td>Bagi penikmat kuliner dengan bahan dasar ikan ...</td>\n",
       "      <td>Valid</td>\n",
       "    </tr>\n",
       "    <tr>\n",
       "      <th>3</th>\n",
       "      <td>Ikan lele merupakan salah satu makanan favorit...</td>\n",
       "      <td>Valid</td>\n",
       "    </tr>\n",
       "    <tr>\n",
       "      <th>4</th>\n",
       "      <td>Ikan lele merupakan bahan makanan yang cukup p...</td>\n",
       "      <td>Valid</td>\n",
       "    </tr>\n",
       "    <tr>\n",
       "      <th>...</th>\n",
       "      <td>...</td>\n",
       "      <td>...</td>\n",
       "    </tr>\n",
       "    <tr>\n",
       "      <th>595</th>\n",
       "      <td>Kabar yang beredar seputar rencana kenaikan ga...</td>\n",
       "      <td>Valid</td>\n",
       "    </tr>\n",
       "    <tr>\n",
       "      <th>596</th>\n",
       "      <td>Kabar yang beredar seputar rencana kenaikan ga...</td>\n",
       "      <td>Valid</td>\n",
       "    </tr>\n",
       "    <tr>\n",
       "      <th>597</th>\n",
       "      <td>Akhir-akhir ini, beredar pemberitaan yang meny...</td>\n",
       "      <td>Valid</td>\n",
       "    </tr>\n",
       "    <tr>\n",
       "      <th>598</th>\n",
       "      <td>Rancangan peraturan pemerintah (RPP) tentang G...</td>\n",
       "      <td>Valid</td>\n",
       "    </tr>\n",
       "    <tr>\n",
       "      <th>599</th>\n",
       "      <td>Kabar yang beredar seputar rencana kenaikan ga...</td>\n",
       "      <td>Valid</td>\n",
       "    </tr>\n",
       "  </tbody>\n",
       "</table>\n",
       "<p>600 rows × 2 columns</p>\n",
       "</div>"
      ],
      "text/plain": [
       "                                                berita tagging\n",
       "0    Jakarta, Di jejaring sosial, banyak beredar in...   Valid\n",
       "1    Isu bahwa ikan lele mengandung sel kanker di j...   Valid\n",
       "2    Bagi penikmat kuliner dengan bahan dasar ikan ...   Valid\n",
       "3    Ikan lele merupakan salah satu makanan favorit...   Valid\n",
       "4    Ikan lele merupakan bahan makanan yang cukup p...   Valid\n",
       "..                                                 ...     ...\n",
       "595  Kabar yang beredar seputar rencana kenaikan ga...   Valid\n",
       "596  Kabar yang beredar seputar rencana kenaikan ga...   Valid\n",
       "597  Akhir-akhir ini, beredar pemberitaan yang meny...   Valid\n",
       "598  Rancangan peraturan pemerintah (RPP) tentang G...   Valid\n",
       "599  Kabar yang beredar seputar rencana kenaikan ga...   Valid\n",
       "\n",
       "[600 rows x 2 columns]"
      ]
     },
     "execution_count": 100,
     "metadata": {},
     "output_type": "execute_result"
    }
   ],
   "source": [
    "dataset"
   ]
  },
  {
   "cell_type": "code",
   "execution_count": 101,
   "metadata": {},
   "outputs": [
    {
     "name": "stderr",
     "output_type": "stream",
     "text": [
      "[nltk_data] Downloading package stopwords to\n",
      "[nltk_data]     C:\\Users\\user\\AppData\\Roaming\\nltk_data...\n",
      "[nltk_data]   Package stopwords is already up-to-date!\n"
     ]
    },
    {
     "data": {
      "text/plain": [
       "True"
      ]
     },
     "execution_count": 101,
     "metadata": {},
     "output_type": "execute_result"
    }
   ],
   "source": [
    "nltk.download('stopwords')"
   ]
  },
  {
   "cell_type": "code",
   "execution_count": 102,
   "metadata": {},
   "outputs": [],
   "source": [
    "corpus = []"
   ]
  },
  {
   "cell_type": "code",
   "execution_count": 103,
   "metadata": {},
   "outputs": [],
   "source": [
    "for i in range(len(dataset)):\n",
    "    text = re.sub('[^a-zA-Z]','',dataset['berita'][i])\n",
    "    text = text.lower()\n",
    "    text = text.split()\n",
    "    ps = PorterStemmer()\n",
    "    text = ','.join(text)\n",
    "    corpus.append(text)"
   ]
  },
  {
   "cell_type": "code",
   "execution_count": 104,
   "metadata": {},
   "outputs": [
    {
     "data": {
      "text/plain": [
       "['jakartadijejaringsosialbanyakberedarinformasiyangmenyebutlelesebagaiikanpalingjorokdalamsesuapdagingikanleleterkandungselkankerbenarkahjulukansebagaiikanpalingjorokmerujukpadasifatleleyangdoyanmengonsumsisegalajenislimbahdiperairanbahkansebuahartikelyangcukupviraldiinternetmenyebutkankotoranmanusiajugadijadikanpakanpadasebuahbudidayaleledikotahaikouchinasementaraitudihabitataslinyaleleataucatfishjugadikenalsebagaispesiesikanyangsangattangguhikaninidilengkapialatpernapasantambahanberupalabirinsehinggamampubertahanhidupdalamkondisiperairanberlumpurataubahkantercemaragaknyafaktainilahyangmemunculkandugaansoalakumulasiracunkarsinogenpenyebabkankerditubuhikanleleuntungnyaikanleleyangberedardipasaranbukanberasaldarialamliarlelebanyakdibudidayakandikolamkolamyangmestinyabisadikendalikanagarbebasdaripencemaranpakanyangdiberikanjugabisadipilihtidakharusmengandalkanlimbahyangpastipopularitasikanbersungutinitidakpernahpudarbahkanterusmeningkatdatakementeriankelautandanperikanankkpmenyebutproduksilelepadamencapaitonmeningkatdaritonpadadantonpadakonsumsiikanlelemenurutbadanpusatstatistikbpstercatatkgkapitatahunnaikdarikgkapitatahunpadadijakartatakkurangdarilapakpecelleletelahterdaftardiasosiasipedagangkakilimaindonesiaapklisoalkandungannutrisitakbisadipungkiribahwaleleadalahsumberproteinberhargayangmurahmeriahfaktabahwaikanlelejugarendahkolesterolsepertinyabakalmenenggelamkantudinganbahwalelebisamemicukankersaatinibelumadapenelitianyangmenyatakanjikamemakanleledapatmemicukankertegasdrdradjatrsuardispbkonkahlikankerdariperhimpunanonkologiindonesiasaatdihubungidetikhealthjumat',\n",
       " 'isubahwaikanlelemengandungselkankerdijejaringsocialdanberitadarimulutkemulutterusmenyebardampakdariisutersebutparaibuibuengganmembeliikanlelewaspadaonlineberhasilmerangkumkomentaribuibuyangbiasanyamembeliikanleleuntukkonsumsirutinsebagailaukberedarnyainformasiyangmenyebutkanlelemengandungselakankerdipisukarenakehidupanikanleleyangbisahidupditempatyangsangatjoroksekalipunjulukansebagaiikanpalingjorokmerujukpadasifatleleyangdoyanmengonsumsiberbagaijenislimbahdiperairanbahkansebuahartikelyangcukupvitaldiinternetmenyebutkankotoranmanusiajugadijadikanpakanpadasebuahbudidayaleledikotahaikoutiongkokberdasarisutersebutdalamsesuapdagingikanleleterkandungselkankerisuitucepatberkembangdimediasosialdanmulutkemulutnamunisuitujustrutakmenyurutkanpenjualanikanleledimedandanmasihstabildantidakberpengaruhpengakuansejumlahpedagangdimedandanpetaniikanleledimedansekitarnyatidakadapengaruhisuterhadapkonsumsidanpenjualanikanlelesepertiyangdiakuibrmanalupedagangikanleledipasarsukaramaimedanmenurutnyapenjualanikanleletetapstabildantidakterkenadampaknyaterkaitpemberitaantersebutpunbanyakmasyarakatyangmasihmengkonsumsiikanlelepenjualanleletetapnormaldanhargalelejugamasihstabilrpperkilonyadansangatdisayangkandengankabaryangkatanyalelemengandungselkankerjelasinimembuatpembudidayaleletersinggungdankamipunsebagaipedagangjelasakankesulitanuntukmencaripasokanikanleleterangnyaseninseorangpetaniikanleledikawasanmedanmarelanpujionomengakutidakmempengaruhipermintaanikanleledarikolammiliknyabahkanpanenikanbelakanganinitidakmampumemenuhipasaryangmayoritasdikirimkeacehdanpasarmedanterkaitikanlelemengandungselkankerpakargizimasyarakatdangurubesarpangandangiziinstitutpertanianbogoripbprofdriralikhemsanmssaatdikonfirmasimelaluiselularseninmembantahisutersebutdiasangatmenyayangkandenganpemberitaantentangbakteriselkankeryangterkandungdiikanleleberitaitumenurutsayatidakbenarmalahinimembuatparapembudidayaikanlelemerasatersinggungdanterpukulkarenadarisitumerekabisamemenuhikebutuhanhidupjelasnyajustrudikatakannyapemicuselkankeradalahminyakgorengpenggorengikanlelejustruyangmembuatdanmenimbulkanselkankeritupadamasyarakatyangmenggorengsesuatuataubahkanikanlelesendiriuntukdijualdenganmenggunakanminyakjelantahminyakbekasituyangbisamemicukankerolehkarenaitudiharapkankepadaseluruhmasyarakatuntuklebihberhatihatiketikamembelimakananyangdigorengdenganmenggunakanminyakpungkasnya',\n",
       " 'bagipenikmatkulinerdenganbahandasarikanleleberitainisungguhsangatmenyedihkanbagaimanatidakikanyangselamainisangatenakinidianggapsebagaisumberpenyakitbeberapainformasiyangkamiperolehdarimasyarakatmenyatakankalauikanlelemengandungselkankerikanlelemempunyaikemampuanhidupyangcukuptinggiiadilengkapidenganalatpernafasantambahanyangdisebutdenganlabirinsehinggakemampuanuntukhidupmelebihiikanikanlainnyaikanlelehidupnyaditempatyangkotorberlumpurdanjorokikanlelejugamemakanlimbahdankotoransehinggaopinimasyarakatmengatakanbahwalelemenyebabkanpenyakitkankernamununtuksaatinibudidayalelesudahtidakdilakukanditempatyangkotordanjoroklagikinibudidayalelesudahdilakukandikolamyangbersihkolamsintetisdenganairyangbersihsertapasokanmakananuntuklelejugalebihterjaminjikadilihatdaricaramasaknyacaramengolahnyaikanleleakanterasalebihnikmatjikadigorengnamunkebanyakanorangsipenjuallelemenggunakanminyakjelantahuntukmenggorengikanlelemerekamenggunakanminyakgorengsecaraberulangulangminyakgorengyangdigunakansecaraberulangulanghinggawarnanyahitampekatakanmenyebabkanpenyakitkankerolehkarenaitusebenarnyabukanhanyaikanlelesajayangmenyebabkankankermakananapapunjikadigorengdenganmenggunakanminyakjelantahakanmenyebabkanselkankerdalamtubuhmanusiajadikesimpulannyayangberanggapanbahwalelemengandungselkankerituadalahtidakbenarikanleletidakmenyebabkanselkankernamuncaramengolahnyayangmenggunakanminyakjelantahitulahyangmenyebabkanselkankerdalamtubuhmanusia',\n",
       " 'ikanlelemerupakansalahsatumakananfavoritdiindonesiaselainharganyamurahrasanyajugasangatenakmeskidemikianadasebagianmasyarakatyangtakutmenikmatimasakandariikanairtawartersebutmerekaberanggapanjikaikanlelepenyebabkankerdanpenyakitlainnyanamunapakahanggapanyangmenyatakanlelemengandungkankertersebutbenarberikutinipenjelasannyahabitatdankehidupanikanleledialamkehidupannyayangasliikanleleadalahspesiesyangterkenaldenganketangguhandandayatahannyabinatanginimemilikialatpernafasantambahanyangdinamakanlabirindenganadanyalabirinditubuhnyaikanleledapathidupdisegalamacamkondisibahkandiperairankeruhdantercemarsekalipunlelemasihbisabertahanikanlelememangmerupakanhewanyangsangatmudahberadaptasisertacepatberkembangbiakdibandingjenislainnyalelejugatermasukikanyangtingkatperkembangantubuhnyatergolongpesathanyadalamhitunganpuluhanharisajaukurandanberattubuhnyabisanaikbeberapakalilipatselainituikanlelejugabisamengkonsumsijenismakananapasajabahkansaatlaparhewanbersungutinijugamaumemakankotoranbinatanglaintermasuklimbahyangmengandungracunberbahayaolehkarenaitutidakmengherankanjikabinatangyangdalambahasainggrisdinamakandengansebutancatfishiniseringdipandangsebagaiikanterjorokberdasarkankaraktermaupunpolahidupnyahalinilahyangkemudianmemunculkanpenafsiranbilaikanlelepenyebabkankerataudengankatalainlelemengandungkankerhasilpenelitianmembuktikanpadasisiyanglainsebagaimanayangdilaporkanbiladipakaisecarasembaranganantibiotikakanmenimbulkankekebalankumanatauresistensidiamerikakasusiniterusmengalamipeningkatankarenaantibiotikseringditemukanpadaikanhasilbudidayamenuruthasilpenelitianyangdilakukanarizonastateuniversitysalahsatujenisikanhasilbudidayayangmemilikikandunganantibiotiktingkattinggiadalahikanleleyangseringkalidibelidandikonsumsiolehmasyarakatapabilaantibiotikmakinseringdikonsumsiakibatnyaadalahbakteriyangmenyerangtubuhmanusiamakinbertambahkuatbakterivirusparasitdanjamurmampumenahanantibiotiksehinggasistempengobatantidakakanmampumenyembuhkanseranganpenyakitperbedaanbudidayaikanlelediindonesiadannegaralainsementaraitudiindonesiasendiriparapeternakseringmengembangbiakansertamembesarkanikanleledikolamatautambakkolamtersebutselaludijagaagarbebasdaripencemarandanjauhdaripusatbuanganlimbahmakananyangdiberikanjugamerupakanmakanankhususuntukikanlelejaditetapamandikonsumsidantidakakanmenimbulkanmasalahpadakesehatankondisiinijauhberbedadengankasusyangterjadiditiongkokbeberapawaktuyanglaluketikaitumunculanekakeluhandarimasyarakatprovinsihainanyangmengalamigangguankesehatansetelahmengkonsumsiikanlelesetelahdilakukanpenelusuranternyatasumberpermasalahaniniterletakpadatatakeloladansistempeternakanikanlelenyakolamyangdipakaiuntukmemeliharaikantersebutdipenuhisampahdengankandunganmerkuriyangsangattinggiselainituletaknyaberdekatandengankandangbabidanayamlebihdariitukolamtersebuttidakpernahdibersihkansamasekalikasusyanghampirmiripjugaterjadidinigeriaafrikasebagaimanarilisyangdikeluarkansebagianbesarikanleleyangdikonsumsimasyarakatnegaratersebutdiambildarisungaipadahalsungaisungaitersebutpenuhlimbahkotorandanpencemaranakibatdarikonsumsiikanleleiniadalahterjadinyaserangkankankerselainitujugaseringmunculmasalahlainmisalnyaobesitasataukegemukanbadandandarahjadikotorkotornyaalirandarahakanmenimbulkanmasalahyanglebihseriuspadatubuhsepertipenyakitginjaldanjantungmunculnyakasusinijugamembuatmasyarakatmakintambahyakinbahwalelemengandungkankerdantumorsistempengolahanikanlelesalahsatucarapalingpopulermemasakikanleleadalahdengancaradigorengbanyakyangtidaktahubahwateknikpenggorenganyangsalahdapatmenyebabkanleleyangdikonsumsimenjadisumbermunculnyaseranganpenyakitdanyangpalingutamayaitupenyakitkankerkesalahanpalingfatalyangpalingseringterjadiialahpadapenggunaanminyaknyaminyakyangdigunakanuntukmenggorengikanleleharusbebasdarikandungankolesterolmaupunzatberbahayalainnyameskiikannyadibudidayadengancarayangbenardandibersihkansebelumdimasaknamunketikaminyakpenggorengannyatidaksehattetapbisamemunculkanseranganpenyakitdarisinitentukitamenjadipahamjikasumberdatangnyapenyakittersebuttidakberasaldariikanlelesendirimelainkanminyaknyaintinyaantaraikanleledankankersebetulnyatidakpunyahubungansamasekalikesimpulanyangdidapatkanjadikesimpulannyajikadipeliharadengancarayangbenardankolamnyaselalubersihsertabebasdaripencemaranmakaikanleletetapamandikonsumsidemikianpuladengansistempengolahannyaharusdicucihinggabersihsebelumdimasakbeberapajenisbakteriyangseringditemukanditubuhikanleleadalahsalmonellashigellahinggaecolikeberadaanbakteribakteriinilahyangmembuatikanlelepenyebabkankerdantumortetapibiladiolahdengansuhupanasyangtepatbisadipastikanbakteritersebutakanmatidengansendirinya',\n",
       " 'ikanlelemerupakanbahanmakananyangcukuppopulerdiindonesianamunbelakanganinitersebarkabarbahwamengonsumsiikanleleberbahayabagikesehatantubuhdikabarkanbahwasatusuapanikanlelemengandungratusanbahkanribuanpemicuselkankerbenarkahmarikitasedikitmengenallebihjauhtentangselukbelukikanleleikanleleclariassppadalahjenisikanyanghidupdiairtawarkarakteristiklelemudahdikenalidaritubuhnyayanglicinagakpipihmemanjangsertamemilikisesuatusepertikumisyangpanjangyangmencuatdarisekitarbagianmulutnyahabitatleleumumnyaberadadisungaidenganarusyangperlahanrawatelagawaduksawahyangtergenangairberlumpurgotmaupunselokankemampuanhiduplelepadalingkunganyangkotordantercemardipengaruhiolehalatpernafasantambahanyangberupalabirinyangberfungsisebagaipenyaringkotorandarilingkungantempathidupleleikanlelejugadikenalsebagaiikanyangpalingjorokhalinimerujukpadasifatikanleleyangdoyanmengonsumsisegalajenislimbahdiperairantempatiahiduptiapgramdagingikanlelemengandungenergisebesarkilokalorikandunganproteindarileledenganporsiitusekitargramkarbohidratsekitargramseratgramdanlemaksebesargramikanlelejugamengandungberbagaivitamindanmineralsepertivitamincvitaminavitaminbkompleksvitaminbsertakalsiummagnesiumfosforkaliumnatriumdanzincikanlelejugakayakandunganvitaminddagingikanlelejugamengandungasamlemakomegasebanyakmgdanomegasebanyakmgsertaterdapatkuranglebihgramproteinpadaekorlelenutrisiyangterdapatpadaleleinisangaterathubungannyadenganpertumbuhanyangbaikterutamapadaanakanakyangsedangdalammasapertumbuhansertabermanfaatuntukmenjagakesehatanjantungdanotakberdasarkanpaparankandungangiziikanleledapatdisimpulkanbahwaternyataikanlelesangatkayamanfaatbagitubuhmanusialalumengapaorangharuskhawatiruntukmengonsumsilelepadadasarnyalingkunganyangkotorlahyangdapatmemiculelemenjadiberbahayauntukdikonsumsileleyanghiduppadalingkunganairyangkotorberpotensiuntukterpaparsenyawakimiayangberbahayasepertilogamberatdanzatpencemaryangterdapatpadapolutanairsenyawakimiayangpalingberbahayayangmungkindapatdikonsumsileleadalahmerkurimerkurihgmerupakansenyawakimiaorganikyangsangatberacunyangdapatmengacaukansistemsarafmanusiaapabiladikonsumsinamunkitatidakperluterlalukhawatirmengenaiisumengenaiikanleleyangkononkatanyaberpotensimemicukankerikanleleyangumumnyaberadadipasaranbukanmerupakanikanleleyangberasaldarialamliarmelainkanadalahikanleleyangtelahdibudidayakandikolamkolamdantelahdikendalikanagarbebasdaripencemaranpakanyangdiberikanpadalelebudidayajugaumumnyaadalahpakannonlimbahsehinggaleletersebuttidakterpaparsenyawakimiaberbahayalelebudidayamalahmengandungasamaminoyangcukuptinggitingginyakadarasamaminoinisendiridapatmengurangiresikokankerjenistertentumaupunperadanganrheumatoidartritisselainitubelumadapenelitianresmiyangmenyatakanbahwamemakanleledapatmemicukankerwalaudemikiankitajugatetapharusberhatihatiterhadapsegalasesuatuyangkitakonsumsiuntukmemperolehmanfaatikanlelesekaligusmencegahresikoadabaiknyakonsumsiikanleledibatasiselainituadabaiknyaasupanikandarijenislainlebihdivariasikanagarkecukupangizidarikomoditasikandapatlebihterpenuhisatuhalyangtakkalahpentinguntukmengonsumsileleadalahdenganmemasakleledengancarayangtepatdanmenyehatkanagarleleyangkitasantapbenarbenarbaikhalaldanbermanfaatbagitubuhkita']"
      ]
     },
     "execution_count": 104,
     "metadata": {},
     "output_type": "execute_result"
    }
   ],
   "source": [
    "corpus[:5]"
   ]
  },
  {
   "cell_type": "code",
   "execution_count": 105,
   "metadata": {},
   "outputs": [],
   "source": [
    "# creating bag of words\n",
    "cv = CountVectorizer(max_features = 1500)"
   ]
  },
  {
   "cell_type": "code",
   "execution_count": 106,
   "metadata": {},
   "outputs": [],
   "source": [
    "x = cv.fit_transform(corpus).toarray()\n",
    "y = dataset.iloc[:,1].values"
   ]
  },
  {
   "cell_type": "code",
   "execution_count": 107,
   "metadata": {},
   "outputs": [],
   "source": [
    "# splitting the dataset into 70% training set and 30% test set\n",
    "from sklearn.model_selection import train_test_split\n",
    "x_train, x_test, y_train, y_test = train_test_split(x, y, test_size=0.3)"
   ]
  },
  {
   "cell_type": "markdown",
   "metadata": {},
   "source": [
    "# Fitting Naive Bayes to the Training set "
   ]
  },
  {
   "cell_type": "code",
   "execution_count": 108,
   "metadata": {},
   "outputs": [],
   "source": [
    "# fitting naive bayes to the training set\n",
    "from sklearn.naive_bayes import BernoulliNB"
   ]
  },
  {
   "cell_type": "code",
   "execution_count": 109,
   "metadata": {},
   "outputs": [
    {
     "data": {
      "text/plain": [
       "BernoulliNB(alpha=1.0, binarize=0.0, class_prior=None, fit_prior=True)"
      ]
     },
     "execution_count": 109,
     "metadata": {},
     "output_type": "execute_result"
    }
   ],
   "source": [
    "classifier = BernoulliNB()\n",
    "classifier.fit(x_train, y_train)"
   ]
  },
  {
   "cell_type": "code",
   "execution_count": 110,
   "metadata": {},
   "outputs": [
    {
     "data": {
      "text/plain": [
       "0.6261904761904762"
      ]
     },
     "execution_count": 110,
     "metadata": {},
     "output_type": "execute_result"
    }
   ],
   "source": [
    "classifier.score(x_train, y_train)"
   ]
  },
  {
   "cell_type": "code",
   "execution_count": 111,
   "metadata": {},
   "outputs": [],
   "source": [
    "# predicting test set results\n",
    "y_pred = classifier.predict(x_test)"
   ]
  },
  {
   "cell_type": "code",
   "execution_count": 112,
   "metadata": {},
   "outputs": [
    {
     "data": {
      "text/plain": [
       "0.6055555555555555"
      ]
     },
     "execution_count": 112,
     "metadata": {},
     "output_type": "execute_result"
    }
   ],
   "source": [
    "classifier.score(x_test, y_test)"
   ]
  },
  {
   "cell_type": "code",
   "execution_count": 113,
   "metadata": {},
   "outputs": [
    {
     "name": "stdout",
     "output_type": "stream",
     "text": [
      "Number of mislabeled points out of a total 180 points : 71\n"
     ]
    }
   ],
   "source": [
    "print(\"Number of mislabeled points out of a total %d points : %d\" % (x_test.shape[0], (y_test != y_pred).sum()))"
   ]
  },
  {
   "cell_type": "code",
   "execution_count": 114,
   "metadata": {},
   "outputs": [
    {
     "data": {
      "text/plain": [
       "array([[0., 1.],\n",
       "       [0., 1.]])"
      ]
     },
     "execution_count": 114,
     "metadata": {},
     "output_type": "execute_result"
    }
   ],
   "source": [
    "cm = confusion_matrix(y_test, y_pred, normalize='true')\n",
    "cm"
   ]
  },
  {
   "cell_type": "code",
   "execution_count": 115,
   "metadata": {},
   "outputs": [
    {
     "name": "stdout",
     "output_type": "stream",
     "text": [
      "              precision    recall  f1-score   support\n",
      "\n",
      "        Hoax      0.000     0.000     0.000        71\n",
      "       Valid      0.606     1.000     0.754       109\n",
      "\n",
      "    accuracy                          0.606       180\n",
      "   macro avg      0.303     0.500     0.377       180\n",
      "weighted avg      0.367     0.606     0.457       180\n",
      "\n"
     ]
    },
    {
     "name": "stderr",
     "output_type": "stream",
     "text": [
      "C:\\Users\\user\\anaconda3\\envs\\tensorflow_env\\lib\\site-packages\\sklearn\\metrics\\_classification.py:1272: UndefinedMetricWarning: Precision and F-score are ill-defined and being set to 0.0 in labels with no predicted samples. Use `zero_division` parameter to control this behavior.\n",
      "  _warn_prf(average, modifier, msg_start, len(result))\n"
     ]
    }
   ],
   "source": [
    "print(metrics.classification_report(y_test, y_pred, digits=3))"
   ]
  },
  {
   "cell_type": "code",
   "execution_count": 125,
   "metadata": {},
   "outputs": [
    {
     "data": {
      "image/png": "[encoded data removed]",
      "text/plain": [
       "<Figure size 936x720 with 2 Axes>"
      ]
     },
     "metadata": {},
     "output_type": "display_data"
    }
   ],
   "source": [
    "df_cm = pd.DataFrame(cm, range(2), range(2))\n",
    "plt.figure(figsize=(13,10))\n",
    "sns.set(font_scale=1.4) # for label size\n",
    "sns.heatmap(df_cm, annot=True, annot_kws={\"size\": 13}) # font size\n",
    "plt.xlabel('true label')\n",
    "plt.ylabel('predicted label')\n",
    "plt.show()"
   ]
  },
  {
   "cell_type": "markdown",
   "metadata": {},
   "source": [
    "# Comparing it with MultiNomial Naive Bayes"
   ]
  },
  {
   "cell_type": "code",
   "execution_count": 126,
   "metadata": {},
   "outputs": [
    {
     "data": {
      "text/plain": [
       "MultinomialNB(alpha=1.0, class_prior=None, fit_prior=True)"
      ]
     },
     "execution_count": 126,
     "metadata": {},
     "output_type": "execute_result"
    }
   ],
   "source": [
    "# comparing it with multinomial Naive Bayes\n",
    "from sklearn.naive_bayes import MultinomialNB\n",
    "classifier_2 = MultinomialNB()\n",
    "classifier_2.fit(x_train, y_train)"
   ]
  },
  {
   "cell_type": "code",
   "execution_count": 127,
   "metadata": {},
   "outputs": [
    {
     "data": {
      "text/plain": [
       "1.0"
      ]
     },
     "execution_count": 127,
     "metadata": {},
     "output_type": "execute_result"
    }
   ],
   "source": [
    "classifier_2.score(x_train, y_train)"
   ]
  },
  {
   "cell_type": "code",
   "execution_count": 128,
   "metadata": {},
   "outputs": [],
   "source": [
    "# predicting test set results\n",
    "y_pred_2 = classifier_2.predict(x_test)"
   ]
  },
  {
   "cell_type": "code",
   "execution_count": 129,
   "metadata": {},
   "outputs": [
    {
     "data": {
      "text/plain": [
       "0.6222222222222222"
      ]
     },
     "execution_count": 129,
     "metadata": {},
     "output_type": "execute_result"
    }
   ],
   "source": [
    "classifier_2.score(x_test, y_test)"
   ]
  },
  {
   "cell_type": "code",
   "execution_count": 130,
   "metadata": {},
   "outputs": [
    {
     "name": "stdout",
     "output_type": "stream",
     "text": [
      "Number of mislabeled points out of a total 180 points : 68\n"
     ]
    }
   ],
   "source": [
    "print(\"Number of mislabeled points out of a total %d points : %d\" % (x_test.shape[0], (y_test != y_pred_2).sum()))"
   ]
  },
  {
   "cell_type": "code",
   "execution_count": 131,
   "metadata": {},
   "outputs": [
    {
     "data": {
      "text/plain": [
       "array([[0.04225352, 0.95774648],\n",
       "       [0.        , 1.        ]])"
      ]
     },
     "execution_count": 131,
     "metadata": {},
     "output_type": "execute_result"
    }
   ],
   "source": [
    "cm = metrics.confusion_matrix(y_test, y_pred_2, normalize=\"true\")\n",
    "cm"
   ]
  },
  {
   "cell_type": "code",
   "execution_count": 132,
   "metadata": {},
   "outputs": [
    {
     "name": "stdout",
     "output_type": "stream",
     "text": [
      "              precision    recall  f1-score   support\n",
      "\n",
      "        Hoax      1.000     0.042     0.081        71\n",
      "       Valid      0.616     1.000     0.762       109\n",
      "\n",
      "    accuracy                          0.622       180\n",
      "   macro avg      0.808     0.521     0.422       180\n",
      "weighted avg      0.767     0.622     0.494       180\n",
      "\n"
     ]
    }
   ],
   "source": [
    "print(metrics.classification_report(y_test, y_pred_2, digits=3))"
   ]
  },
  {
   "cell_type": "code",
   "execution_count": 133,
   "metadata": {},
   "outputs": [
    {
     "data": {
      "image/png": "[encoded data removed]",
      "text/plain": [
       "<Figure size 936x720 with 2 Axes>"
      ]
     },
     "metadata": {},
     "output_type": "display_data"
    }
   ],
   "source": [
    "df_cm = pd.DataFrame(cm, range(2), range(2))\n",
    "plt.figure(figsize=(13,10))\n",
    "sns.set(font_scale=1.4) # for label size\n",
    "sns.heatmap(df_cm, annot=True, annot_kws={\"size\": 13}) # font size\n",
    "\n",
    "plt.show()"
   ]
  },
  {
   "cell_type": "code",
   "execution_count": null,
   "metadata": {},
   "outputs": [],
   "source": []
  }
 ],
 "metadata": {
  "kernelspec": {
   "display_name": "Python 3",
   "language": "python",
   "name": "python3"
  },
  "language_info": {
   "codemirror_mode": {
    "name": "ipython",
    "version": 3
   },
   "file_extension": ".py",
   "mimetype": "text/x-python",
   "name": "python",
   "nbconvert_exporter": "python",
   "pygments_lexer": "ipython3",
   "version": "3.7.7"
  }
 },
 "nbformat": 4,
 "nbformat_minor": 4
}
